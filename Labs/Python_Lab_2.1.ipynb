{
 "cells": [
  {
   "cell_type": "markdown",
   "metadata": {
    "id": "x7F-mxeubDUG"
   },
   "source": [
    "# Python_Lab_2.1\n"
   ]
  },
  {
   "cell_type": "markdown",
   "metadata": {
    "id": "14c6Hn1BbDUH"
   },
   "source": [
    "### Task 1\n",
    "1. Write a function named is_prime that takes a number as a parameter and returns True if the number is prime and False otherwise. Print whether the number 29 is prime."
   ]
  },
  {
   "cell_type": "code",
   "execution_count": 33,
   "metadata": {
    "id": "5e_MZEN0bDUI"
   },
   "outputs": [
    {
     "name": "stdout",
     "output_type": "stream",
     "text": [
      "True\n"
     ]
    }
   ],
   "source": [
    "def is_prime(primeNumber):\n",
    "    if primeNumber < 2:\n",
    "        return False\n",
    "    if primeNumber == 2:\n",
    "        return True\n",
    "    if primeNumber % 2 == 0: \n",
    "        return False\n",
    "    for i in range(3, primeNumber // 2 + 1, 2):\n",
    "        if primeNumber % i == 0:\n",
    "            return False\n",
    "        else:\n",
    "            return True\n",
    "        \n",
    "print(is_prime(29))"
   ]
  },
  {
   "cell_type": "markdown",
   "metadata": {
    "id": "2zKG8ZcybDUI"
   },
   "source": [
    "### Task 2\n",
    "1. Create a list of 10 numbers and sort them in descending order using the sort() function.\n",
    "2. Use the len() function to print the length of the sorted list.\n",
    "3. Use the zip() function to combine three lists (names, ages, and cities) into a list of tuples.\n",
    "4. Use the range() function to create a list of even numbers from 2 to 20 and print the list."
   ]
  },
  {
   "cell_type": "code",
   "execution_count": 59,
   "metadata": {
    "id": "yyoe__M_bDUI"
   },
   "outputs": [
    {
     "name": "stdout",
     "output_type": "stream",
     "text": [
      "[109, 108, 107, 106, 105, 104, 103, 102, 101, 100]\n",
      "10\n",
      "[('Khaled', 22, 'Riyadh'), ('Nawaf', 18, 'Jaddah'), ('Hammad', 27, 'Dubai'), ('Sataam', 35, 'Taif'), ('Nourah', 23, 'Hail')]\n",
      "[2, 4, 6, 8, 10, 12, 14, 16, 18]\n"
     ]
    }
   ],
   "source": [
    "lst = [101, 109, 105, 106, 107, 100, 102, 103, 104, 108]\n",
    "newList = sorted(lst, reverse=True) ## sorted\n",
    "print(newList)\n",
    "print(len(newList)) ## len\n",
    "\n",
    "names = ['Khaled', 'Nawaf', 'Hammad', 'Sataam', 'Nourah']\n",
    "ages = [22, 18, 27, 35, 23]\n",
    "cities = ['Riyadh', 'Jaddah', 'Dubai', 'Taif', 'Hail']\n",
    "z = zip(names,ages,cities) ## zip\n",
    "print(list(z))\n",
    "rangeList = []\n",
    "rangeList = list(range(2,20,2)) ## range\n",
    "print(rangeList)"
   ]
  },
  {
   "cell_type": "markdown",
   "metadata": {
    "id": "aStW5p7AbDUI"
   },
   "source": [
    "### Task 3\n",
    "Build a phone book program that receives the phone number, and returns the name of the owner.\n",
    "You can follow the table below:\n",
    "\n",
    "| Name     | Number     |\n",
    "| -------- | ---------- |\n",
    "| Amal     | 1111111111 |\n",
    "| Mohammed | 2222222222 |\n",
    "| Khadijah | 3333333333 |\n",
    "| Abdullah | 4444444444 |\n",
    "| Rawan    | 5555555555 |\n",
    "| Faisal   | 6666666666 |\n",
    "| Layla    | 7777777777 |\n",
    "\n",
    "- If the number exists, print the owner. Otherwise, print \"Sorry, the number is not found\".\n",
    "- If the number is less or more than 10 numbers, print \"This is invalid number\".\n",
    "- If the number contains letters or symbols, print \"This is invalid number\".\n"
   ]
  },
  {
   "cell_type": "code",
   "execution_count": 1,
   "metadata": {
    "id": "kvXmjUe-bDUJ"
   },
   "outputs": [
    {
     "name": "stdout",
     "output_type": "stream",
     "text": [
      "Enter the phone number: 22222222222\n",
      "This is invalid number\n"
     ]
    }
   ],
   "source": [
    "phoneBook = {\n",
    "    \"1111111111\": \"Amal\", \n",
    "    \"2222222222\": \"Mohammed\", \n",
    "    \"3333333333\": \"Khadijah\", \n",
    "    \"4444444444\": \"Abdullah\", \n",
    "    \"5555555555\": \"Rawan\",\n",
    "    \"6666666666\": \"Faisal\",\n",
    "    \"7777777777\": \"Layla\"\n",
    "}\n",
    "\n",
    "matchNum = input(\"Enter the phone number: \")\n",
    "\n",
    "if not matchNum.isdigit() or len(matchNum) != 10:\n",
    "    print(\"This is invalid number\")\n",
    "elif matchNum in phoneBook:\n",
    "    print(f\"The owner is {phoneBook[matchNum]}\")\n",
    "else:\n",
    "    print(\"Sorry, the number is not found\")\n"
   ]
  },
  {
   "cell_type": "markdown",
   "metadata": {
    "id": "exLHQ28nbDUJ"
   },
   "source": [
    "### Task 4\n",
    "- Given the following list : [5, 4, 17, 19, 30, 2, 7, 10, 45]\n",
    "    1. Use a lambda function to filter out only the odd numbers.\n",
    "    2. Print the new list of odd numbers."
   ]
  },
  {
   "cell_type": "code",
   "execution_count": 3,
   "metadata": {
    "id": "64SUsh1cbDUJ"
   },
   "outputs": [
    {
     "name": "stdout",
     "output_type": "stream",
     "text": [
      "[5, 17, 19, 7, 45]\n"
     ]
    }
   ],
   "source": [
    "lst = [5, 4, 17, 19, 30, 2, 7, 10, 45]\n",
    "oddNumbers = list(filter(lambda x: x % 2 != 0, lst))\n",
    "print(oddNumbers)"
   ]
  }
 ],
 "metadata": {
  "colab": {
   "provenance": []
  },
  "kernelspec": {
   "display_name": "Python 3 (ipykernel)",
   "language": "python",
   "name": "python3"
  },
  "language_info": {
   "codemirror_mode": {
    "name": "ipython",
    "version": 3
   },
   "file_extension": ".py",
   "mimetype": "text/x-python",
   "name": "python",
   "nbconvert_exporter": "python",
   "pygments_lexer": "ipython3",
   "version": "3.11.3"
  }
 },
 "nbformat": 4,
 "nbformat_minor": 1
}
