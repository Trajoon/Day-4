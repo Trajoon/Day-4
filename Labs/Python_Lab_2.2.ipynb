{
 "cells": [
  {
   "cell_type": "markdown",
   "metadata": {
    "id": "E9Y5ss1ZYj3r"
   },
   "source": [
    "# Python_Lab_2.2\n"
   ]
  },
  {
   "cell_type": "markdown",
   "metadata": {
    "id": "Q1kAqc72Yj3t"
   },
   "source": [
    "### Task 1\n",
    "1. Write a program that prompts the user to enter two numbers and prints their division. Handle cases where the user enters non-numeric values or attempts to divide by zero using a try-except block.\n"
   ]
  },
  {
   "cell_type": "code",
   "execution_count": 10,
   "metadata": {
    "id": "H-xyoRTVYj3t"
   },
   "outputs": [
    {
     "name": "stdout",
     "output_type": "stream",
     "text": [
      "Let's try to divide two numbers!\n",
      "Kindly, Enter the first number: 10\n",
      "Kindly, Enter the second number: 3\n",
      "The division of 10 / 3 is: 3.3333333333333335\n"
     ]
    }
   ],
   "source": [
    "try:\n",
    "    print(\"Let's try to divide two numbers!\")\n",
    "    num1 = input(\"Kindly, Enter the first number: \")\n",
    "    num2 = input(\"Kindly, Enter the second number: \")\n",
    "    \n",
    "\n",
    "    num3 = float(num1) / float(num2)\n",
    "\n",
    "    print(f\"The division of {num1} / {num2} is: {num3}\")\n",
    "\n",
    "except ZeroDivisionError:\n",
    "    print(\"Error: Division by zero is not allowed.\")\n",
    "\n",
    "except ValueError:\n",
    "    print(\"Error: Non-numeric input is not allowed.\")\n",
    "\n"
   ]
  },
  {
   "cell_type": "markdown",
   "metadata": {
    "id": "CPWcDSC_Yj3u"
   },
   "source": [
    "### Task 2\n",
    "- Use \"Random\" library to do the following:\n",
    "    1. Create a list of random numbers using list comprehension.\n",
    "    2. Create a list of squares of the even numbers from random numbers using list comprehension.\n",
    "    3. Create a list of tuples (number, square) for random numbers using list comprehension."
   ]
  },
  {
   "cell_type": "code",
   "execution_count": 17,
   "metadata": {
    "id": "Yfq-i6CeYj3u"
   },
   "outputs": [
    {
     "name": "stdout",
     "output_type": "stream",
     "text": [
      "[17, 18, 3, 11, 8, 18, 8, 16, 11, 10]\n",
      "[324, 64, 324, 64, 256, 100]\n",
      "[(17, 289), (18, 324), (3, 9), (11, 121), (8, 64), (18, 324), (8, 64), (16, 256), (11, 121), (10, 100)]\n"
     ]
    }
   ],
   "source": [
    "import random\n",
    "randomList = [random.randint(1, 20) for i in range(10)]\n",
    "print(randomList)\n",
    "squaresList = [i ** 2 for i in randomList if i % 2 == 0]\n",
    "print(squaresList)\n",
    "tuplesList = [(i , i ** 2) for i in randomList]\n",
    "print(tuplesList)"
   ]
  },
  {
   "cell_type": "markdown",
   "metadata": {
    "id": "jYdOq46NYj3u"
   },
   "source": [
    "### Task 3\n",
    "- Create a dictionary where the keys are numbers from 1 to 5 and the values are list of their squares and cubes.\n",
    "\n",
    "  - **hint**: use dictionary of list comprehension.\n",
    "\n",
    "- Create a dictionary from two lists (one with keys and one with values) using dictionary comprehension.\n",
    "\n"
   ]
  },
  {
   "cell_type": "code",
   "execution_count": 22,
   "metadata": {
    "id": "IEnsiNmCYj3u"
   },
   "outputs": [
    {
     "name": "stdout",
     "output_type": "stream",
     "text": [
      "{1: [1, 1], 2: [4, 8], 3: [9, 27], 4: [16, 64], 5: [25, 125]}\n",
      "{1: 'Khaled', 2: 'Nawaf', 3: 'Hammad', 4: 'Sataam', 5: 'Nourah'}\n"
     ]
    }
   ],
   "source": [
    "numbers = {i: [i**2, i**3] for i in range(1, 6)}\n",
    "print(numbers)\n",
    "\n",
    "\n",
    "num = [1, 2, 3, 4, 5]\n",
    "names = ['Khaled', 'Nawaf', 'Hammad', 'Sataam', 'Nourah']\n",
    "orderNames = {num[i]: names[i] for i in range(len(num))}\n",
    "print(orderNames)"
   ]
  },
  {
   "cell_type": "markdown",
   "metadata": {
    "id": "6T9TCQ8SYj3v"
   },
   "source": [
    "### Task 4\n",
    "- Given a dictionary where keys are student names and values are lists of their scores, write a function that updates the scores of students who have achieved a perfect score (100) by adding a bonus of 5 points to each score. Use dictionary comprehension to achieve this.\n",
    "\n",
    "    - Implement the function add_bonus_to_perfect_scores(student_scores) that adds a bonus of 5 points to each score of students who have achieved a perfect score (100)."
   ]
  },
  {
   "cell_type": "code",
   "execution_count": 25,
   "metadata": {
    "id": "T3R_VsQpYj3v"
   },
   "outputs": [
    {
     "name": "stdout",
     "output_type": "stream",
     "text": [
      "{'Khaled': 105, 'Nawaf': 85, 'Hammad': 97, 'Sataam': 105, 'Nourah': 99}\n"
     ]
    }
   ],
   "source": [
    "names = ['Khaled', 'Nawaf', 'Hammad', 'Sataam', 'Nourah']\n",
    "score = [100, 85, 97, 100, 99]\n",
    "\n",
    "\n",
    "students = {names[i]: score[i] for i in range(len(names))}\n",
    "\n",
    "\n",
    "def add_bonus_to_perfect_scores(student_scores):\n",
    "    return {name: score + 5 if score == 100 else score \n",
    "            for name, score in student_scores.items()}\n",
    "\n",
    "updated_students = add_bonus_to_perfect_scores(students)\n",
    "\n",
    "print(updated_students)\n"
   ]
  }
 ],
 "metadata": {
  "colab": {
   "provenance": []
  },
  "kernelspec": {
   "display_name": "Python 3 (ipykernel)",
   "language": "python",
   "name": "python3"
  },
  "language_info": {
   "codemirror_mode": {
    "name": "ipython",
    "version": 3
   },
   "file_extension": ".py",
   "mimetype": "text/x-python",
   "name": "python",
   "nbconvert_exporter": "python",
   "pygments_lexer": "ipython3",
   "version": "3.11.3"
  }
 },
 "nbformat": 4,
 "nbformat_minor": 1
}
